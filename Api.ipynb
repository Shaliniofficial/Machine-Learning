{
 "cells": [
  {
   "cell_type": "code",
   "execution_count": 5,
   "id": "75814a99-5587-42d2-a5d4-a957a8339523",
   "metadata": {},
   "outputs": [],
   "source": [
    "import requests\n",
    "from google.transit import gtfs_realtime_pb2\n",
    "import pandas as pd\n",
    "import folium"
   ]
  },
  {
   "cell_type": "code",
   "execution_count": 7,
   "id": "21c543ef-fb1a-4da5-be10-e7fef365eef6",
   "metadata": {},
   "outputs": [],
   "source": [
    "#step1-setup the api\n",
    "API_Key=\"fXNyCp1nmQRY1aX5Ta1SW6rxlfiCX542\"\n",
    "API_URL=\"https://otd.delhi.gov.in/api/realtime/VehiclePositions.pb?key=fXNyCp1nmQRY1aX5Ta1SW6rxlfiCX542\"\n"
   ]
  },
  {
   "cell_type": "code",
   "execution_count": 9,
   "id": "bf3278f5-a97d-4f06-9c81-075a73fdd880",
   "metadata": {},
   "outputs": [],
   "source": [
    "#step2-fetching of data(GTFS_real time data)\n",
    "response=requests.get(API_URL)\n",
    "if response.status_code !=200:\n",
    "    raise Exception(f\"Error! {response.status_code}:{response.text}\")"
   ]
  },
  {
   "cell_type": "code",
   "execution_count": 10,
   "id": "55fbe07c-c0db-4141-a0b6-af10d285847f",
   "metadata": {},
   "outputs": [
    {
     "data": {
      "text/plain": [
       "223829"
      ]
     },
     "execution_count": 10,
     "metadata": {},
     "output_type": "execute_result"
    }
   ],
   "source": [
    "#step3-data parsing to protbut (data parsing depend on dataset)\n",
    "feed=gtfs_realtime_pb2.FeedMessage()\n",
    "feed.ParseFromString(response.content)"
   ]
  },
  {
   "cell_type": "code",
   "execution_count": 12,
   "id": "20b0a739-e6ef-4c73-a171-f27bc9c53968",
   "metadata": {},
   "outputs": [],
   "source": [
    "from datetime import datetime\n",
    "#step 4=Convert into dataFrame\n",
    "data=[]\n",
    "for entity in feed.entity:\n",
    "    if entity.HasField('vehicle'):\n",
    "        vehicle=entity.vehicle\n",
    "    data.append({\n",
    "        \"VehicleID\":vehicle.vehicle.id,\n",
    "        \"TripID\":vehicle.trip.trip_id,\n",
    "        \"RouteID\":vehicle.trip.route_id,\n",
    "        \"Latitude\":vehicle.position.latitude,\n",
    "        \"Longitude\":vehicle.position.longitude,\n",
    "        \"Timestamp\":datetime.fromtimestamp(vehicle.timestamp) if vehicle.timestamp else None\n",
    "    })\n",
    "    "
   ]
  },
  {
   "cell_type": "code",
   "execution_count": 14,
   "id": "55c747ac-6fa6-463b-8b37-5d68f5f3e7c2",
   "metadata": {},
   "outputs": [
    {
     "name": "stdout",
     "output_type": "stream",
     "text": [
      "<class 'pandas.core.frame.DataFrame'>\n",
      "RangeIndex: 2185 entries, 0 to 2184\n",
      "Data columns (total 6 columns):\n",
      " #   Column     Non-Null Count  Dtype         \n",
      "---  ------     --------------  -----         \n",
      " 0   VehicleID  2185 non-null   object        \n",
      " 1   TripID     2185 non-null   object        \n",
      " 2   RouteID    2185 non-null   object        \n",
      " 3   Latitude   2185 non-null   float64       \n",
      " 4   Longitude  2185 non-null   float64       \n",
      " 5   Timestamp  2185 non-null   datetime64[ns]\n",
      "dtypes: datetime64[ns](1), float64(2), object(3)\n",
      "memory usage: 102.5+ KB\n"
     ]
    },
    {
     "data": {
      "text/plain": [
       "'Information of captured data'"
      ]
     },
     "execution_count": 14,
     "metadata": {},
     "output_type": "execute_result"
    }
   ],
   "source": [
    "dataset=pd.DataFrame(data)\n",
    "dataset.info()\n",
    "\"Information of captured data\""
   ]
  },
  {
   "cell_type": "code",
   "execution_count": 19,
   "id": "5ceeba91-120e-4f67-bcba-4c4e7e99a5b5",
   "metadata": {},
   "outputs": [
    {
     "data": {
      "text/plain": [
       "'map saves succesfully'"
      ]
     },
     "execution_count": 19,
     "metadata": {},
     "output_type": "execute_result"
    }
   ],
   "source": [
    "# step 5-map visulization\n",
    "m=folium.Map(location=[28.613939, 77.209021],zoom_start=11)\n",
    "\n",
    "for _,row in dataset.iterrows():\n",
    "    folium.Marker(\n",
    "        location=[row[\"Latitude\"],row[\"Longitude\"]],\n",
    "        popup=f\"Route:{row['RouteID']}<br>Vehicle:{row['VehicleID']}<br>Time:{row['Timestamp']}\",\n",
    "        icon=folium.Icon(color=\"blue\",icon=\"bus\")\n",
    "    ).add_to(m)\n",
    "\n",
    "m.save(\"Delhi transport mapping.html\")\n",
    "\"map saves succesfully\"\n",
    "\n",
    "        "
   ]
  },
  {
   "cell_type": "code",
   "execution_count": null,
   "id": "d2b50ce3-9a64-47de-b5e2-4074afc6017e",
   "metadata": {},
   "outputs": [],
   "source": []
  }
 ],
 "metadata": {
  "kernelspec": {
   "display_name": "Python (mlenv)",
   "language": "python",
   "name": "mlenv"
  },
  "language_info": {
   "codemirror_mode": {
    "name": "ipython",
    "version": 3
   },
   "file_extension": ".py",
   "mimetype": "text/x-python",
   "name": "python",
   "nbconvert_exporter": "python",
   "pygments_lexer": "ipython3",
   "version": "3.10.18"
  }
 },
 "nbformat": 4,
 "nbformat_minor": 5
}
